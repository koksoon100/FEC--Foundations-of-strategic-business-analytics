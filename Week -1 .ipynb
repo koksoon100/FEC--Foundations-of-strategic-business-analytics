{
 "cells": [
  {
   "cell_type": "markdown",
   "metadata": {},
   "source": [
    "# Foundations of strategic business analytics - Week 1"
   ]
  },
  {
   "cell_type": "code",
   "execution_count": 109,
   "metadata": {},
   "outputs": [],
   "source": [
    "import pandas as pd\n",
    "import numpy as np\n",
    "\n",
    "df = pd.read_csv(\"pasta_purchase.csv\")"
   ]
  },
  {
   "cell_type": "markdown",
   "metadata": {},
   "source": [
    "Question 1 :\n",
    "What is the correct mean and standard deviation of the quantity of pasta purchased by time unit by household?\n",
    "\n",
    "Question 2 :\n",
    "In which area are located (i) the poorest household and (ii) the wealthiest household?"
   ]
  },
  {
   "cell_type": "code",
   "execution_count": 110,
   "metadata": {},
   "outputs": [
    {
     "data": {
      "text/html": [
       "<div>\n",
       "<style scoped>\n",
       "    .dataframe tbody tr th:only-of-type {\n",
       "        vertical-align: middle;\n",
       "    }\n",
       "\n",
       "    .dataframe tbody tr th {\n",
       "        vertical-align: top;\n",
       "    }\n",
       "\n",
       "    .dataframe thead th {\n",
       "        text-align: right;\n",
       "    }\n",
       "</style>\n",
       "<table border=\"1\" class=\"dataframe\">\n",
       "  <thead>\n",
       "    <tr style=\"text-align: right;\">\n",
       "      <th></th>\n",
       "      <th>HHID</th>\n",
       "      <th>TIME</th>\n",
       "      <th>PASTA</th>\n",
       "      <th>EXPOS</th>\n",
       "      <th>AGE</th>\n",
       "      <th>INCOME</th>\n",
       "      <th>AREA</th>\n",
       "    </tr>\n",
       "  </thead>\n",
       "  <tbody>\n",
       "    <tr>\n",
       "      <th>0</th>\n",
       "      <td>1</td>\n",
       "      <td>1</td>\n",
       "      <td>0.939444</td>\n",
       "      <td>1</td>\n",
       "      <td>61.710758</td>\n",
       "      <td>25186.798772</td>\n",
       "      <td>3</td>\n",
       "    </tr>\n",
       "    <tr>\n",
       "      <th>1</th>\n",
       "      <td>1</td>\n",
       "      <td>2</td>\n",
       "      <td>2.560969</td>\n",
       "      <td>2</td>\n",
       "      <td>61.710758</td>\n",
       "      <td>25186.798772</td>\n",
       "      <td>3</td>\n",
       "    </tr>\n",
       "    <tr>\n",
       "      <th>2</th>\n",
       "      <td>1</td>\n",
       "      <td>3</td>\n",
       "      <td>0.901123</td>\n",
       "      <td>0</td>\n",
       "      <td>61.710758</td>\n",
       "      <td>25186.798772</td>\n",
       "      <td>3</td>\n",
       "    </tr>\n",
       "    <tr>\n",
       "      <th>3</th>\n",
       "      <td>1</td>\n",
       "      <td>4</td>\n",
       "      <td>1.916530</td>\n",
       "      <td>1</td>\n",
       "      <td>61.710758</td>\n",
       "      <td>25186.798772</td>\n",
       "      <td>3</td>\n",
       "    </tr>\n",
       "    <tr>\n",
       "      <th>4</th>\n",
       "      <td>1</td>\n",
       "      <td>5</td>\n",
       "      <td>1.548751</td>\n",
       "      <td>0</td>\n",
       "      <td>61.710758</td>\n",
       "      <td>25186.798772</td>\n",
       "      <td>3</td>\n",
       "    </tr>\n",
       "  </tbody>\n",
       "</table>\n",
       "</div>"
      ],
      "text/plain": [
       "   HHID  TIME     PASTA  EXPOS        AGE        INCOME  AREA\n",
       "0     1     1  0.939444      1  61.710758  25186.798772     3\n",
       "1     1     2  2.560969      2  61.710758  25186.798772     3\n",
       "2     1     3  0.901123      0  61.710758  25186.798772     3\n",
       "3     1     4  1.916530      1  61.710758  25186.798772     3\n",
       "4     1     5  1.548751      0  61.710758  25186.798772     3"
      ]
     },
     "execution_count": 110,
     "metadata": {},
     "output_type": "execute_result"
    }
   ],
   "source": [
    "df.head()"
   ]
  },
  {
   "cell_type": "code",
   "execution_count": 111,
   "metadata": {},
   "outputs": [
    {
     "data": {
      "text/html": [
       "<div>\n",
       "<style scoped>\n",
       "    .dataframe tbody tr th:only-of-type {\n",
       "        vertical-align: middle;\n",
       "    }\n",
       "\n",
       "    .dataframe tbody tr th {\n",
       "        vertical-align: top;\n",
       "    }\n",
       "\n",
       "    .dataframe thead th {\n",
       "        text-align: right;\n",
       "    }\n",
       "</style>\n",
       "<table border=\"1\" class=\"dataframe\">\n",
       "  <thead>\n",
       "    <tr style=\"text-align: right;\">\n",
       "      <th></th>\n",
       "      <th>HHID</th>\n",
       "      <th>TIME</th>\n",
       "      <th>PASTA</th>\n",
       "      <th>EXPOS</th>\n",
       "      <th>AGE</th>\n",
       "      <th>INCOME</th>\n",
       "      <th>AREA</th>\n",
       "    </tr>\n",
       "  </thead>\n",
       "  <tbody>\n",
       "    <tr>\n",
       "      <th>count</th>\n",
       "      <td>40000.000000</td>\n",
       "      <td>40000.000000</td>\n",
       "      <td>40000.000000</td>\n",
       "      <td>40000.000000</td>\n",
       "      <td>40000.000000</td>\n",
       "      <td>40000.000000</td>\n",
       "      <td>40000.000000</td>\n",
       "    </tr>\n",
       "    <tr>\n",
       "      <th>mean</th>\n",
       "      <td>1000.500000</td>\n",
       "      <td>10.500000</td>\n",
       "      <td>1.841545</td>\n",
       "      <td>0.499100</td>\n",
       "      <td>42.251409</td>\n",
       "      <td>27096.126112</td>\n",
       "      <td>2.996000</td>\n",
       "    </tr>\n",
       "    <tr>\n",
       "      <th>std</th>\n",
       "      <td>577.357414</td>\n",
       "      <td>5.766353</td>\n",
       "      <td>1.025911</td>\n",
       "      <td>0.702041</td>\n",
       "      <td>13.766646</td>\n",
       "      <td>15928.188291</td>\n",
       "      <td>1.409622</td>\n",
       "    </tr>\n",
       "    <tr>\n",
       "      <th>min</th>\n",
       "      <td>1.000000</td>\n",
       "      <td>1.000000</td>\n",
       "      <td>0.000000</td>\n",
       "      <td>0.000000</td>\n",
       "      <td>18.007529</td>\n",
       "      <td>609.107170</td>\n",
       "      <td>1.000000</td>\n",
       "    </tr>\n",
       "    <tr>\n",
       "      <th>25%</th>\n",
       "      <td>500.750000</td>\n",
       "      <td>5.750000</td>\n",
       "      <td>1.108936</td>\n",
       "      <td>0.000000</td>\n",
       "      <td>30.505706</td>\n",
       "      <td>15379.591862</td>\n",
       "      <td>2.000000</td>\n",
       "    </tr>\n",
       "    <tr>\n",
       "      <th>50%</th>\n",
       "      <td>1000.500000</td>\n",
       "      <td>10.500000</td>\n",
       "      <td>1.811417</td>\n",
       "      <td>0.000000</td>\n",
       "      <td>42.436092</td>\n",
       "      <td>24487.068020</td>\n",
       "      <td>3.000000</td>\n",
       "    </tr>\n",
       "    <tr>\n",
       "      <th>75%</th>\n",
       "      <td>1500.250000</td>\n",
       "      <td>15.250000</td>\n",
       "      <td>2.534365</td>\n",
       "      <td>1.000000</td>\n",
       "      <td>54.362395</td>\n",
       "      <td>35272.533787</td>\n",
       "      <td>4.000000</td>\n",
       "    </tr>\n",
       "    <tr>\n",
       "      <th>max</th>\n",
       "      <td>2000.000000</td>\n",
       "      <td>20.000000</td>\n",
       "      <td>6.592769</td>\n",
       "      <td>5.000000</td>\n",
       "      <td>64.984126</td>\n",
       "      <td>141066.966883</td>\n",
       "      <td>5.000000</td>\n",
       "    </tr>\n",
       "  </tbody>\n",
       "</table>\n",
       "</div>"
      ],
      "text/plain": [
       "               HHID          TIME         PASTA         EXPOS           AGE  \\\n",
       "count  40000.000000  40000.000000  40000.000000  40000.000000  40000.000000   \n",
       "mean    1000.500000     10.500000      1.841545      0.499100     42.251409   \n",
       "std      577.357414      5.766353      1.025911      0.702041     13.766646   \n",
       "min        1.000000      1.000000      0.000000      0.000000     18.007529   \n",
       "25%      500.750000      5.750000      1.108936      0.000000     30.505706   \n",
       "50%     1000.500000     10.500000      1.811417      0.000000     42.436092   \n",
       "75%     1500.250000     15.250000      2.534365      1.000000     54.362395   \n",
       "max     2000.000000     20.000000      6.592769      5.000000     64.984126   \n",
       "\n",
       "              INCOME          AREA  \n",
       "count   40000.000000  40000.000000  \n",
       "mean    27096.126112      2.996000  \n",
       "std     15928.188291      1.409622  \n",
       "min       609.107170      1.000000  \n",
       "25%     15379.591862      2.000000  \n",
       "50%     24487.068020      3.000000  \n",
       "75%     35272.533787      4.000000  \n",
       "max    141066.966883      5.000000  "
      ]
     },
     "execution_count": 111,
     "metadata": {},
     "output_type": "execute_result"
    }
   ],
   "source": [
    "df.describe()"
   ]
  },
  {
   "cell_type": "markdown",
   "metadata": {},
   "source": [
    "Question 3 :\n",
    "What is the maximum pasta quantity a household has bought over the whole time period? (Sum the quantity of pasta by household over time and indicate the maximum)\n",
    "\n",
    "Question 4 :\n",
    "What is the average income of households living in area 4?"
   ]
  },
  {
   "cell_type": "code",
   "execution_count": 112,
   "metadata": {},
   "outputs": [
    {
     "data": {
      "text/plain": [
       "AREA\n",
       "1    28076.599968\n",
       "2    26218.857948\n",
       "3    25879.485698\n",
       "4    29260.133137\n",
       "5    26030.910606\n",
       "Name: INCOME, dtype: float64"
      ]
     },
     "execution_count": 112,
     "metadata": {},
     "output_type": "execute_result"
    }
   ],
   "source": [
    "df.groupby(['AREA'])['INCOME'].mean()"
   ]
  },
  {
   "cell_type": "code",
   "execution_count": 113,
   "metadata": {},
   "outputs": [
    {
     "data": {
      "text/plain": [
       "55.36193058243068"
      ]
     },
     "execution_count": 113,
     "metadata": {},
     "output_type": "execute_result"
    }
   ],
   "source": [
    "max(df.groupby(['HHID'])['PASTA'].sum())"
   ]
  },
  {
   "cell_type": "markdown",
   "metadata": {},
   "source": [
    "Question 5 :\n",
    "How many households live in area 2, earn more than 20k, and have purchased more than 30 units of pasta over the whole time period?"
   ]
  },
  {
   "cell_type": "code",
   "execution_count": 61,
   "metadata": {},
   "outputs": [
    {
     "data": {
      "text/plain": [
       "218"
      ]
     },
     "execution_count": 61,
     "metadata": {},
     "output_type": "execute_result"
    }
   ],
   "source": [
    "sum_pasta = lambda x:np.sum(x)\n",
    "\n",
    "df_area = df[(df['AREA']==2)&(df['INCOME']>20000)]\n",
    "df_pasta = df_area.groupby(['HHID']).apply(sum_pasta)\n",
    "print(f\"Number of households are {df_pasta[df_pasta['PASTA']>30]['HHID'].count()"
   ]
  },
  {
   "cell_type": "code",
   "execution_count": 65,
   "metadata": {},
   "outputs": [
    {
     "data": {
      "image/png": "[encoded data removed]",
      "text/plain": [
       "<Figure size 864x864 with 2 Axes>"
      ]
     },
     "metadata": {
      "needs_background": "light"
     },
     "output_type": "display_data"
    }
   ],
   "source": [
    "def plot_correlation(data):\n",
    "    import matplotlib.pyplot as plt       # matplotlib.pyplot plots data\n",
    "    %matplotlib inline \n",
    "    import seaborn as sns\n",
    "\n",
    "    corr = data.corr()\n",
    "    mask = np.triu(np.ones_like(corr, dtype=np.bool))\n",
    "\n",
    "    # Set up the matplotlib figure\n",
    "    figure, ax = plt.subplots(figsize=(12, 12))\n",
    "\n",
    "    # Generate a custom diverging colormap\n",
    "    cmap = sns.diverging_palette(220, 10, as_cmap=True)\n",
    "\n",
    "    # Draw a heat map \n",
    "    sns.heatmap(corr, mask=mask, cmap=cmap, vmax=.3, center=0,\n",
    "                square=True, linewidths=.4, cbar_kws={\"shrink\": .4})\n",
    "    \n",
    "plot_correlation(df)"
   ]
  },
  {
   "cell_type": "markdown",
   "metadata": {},
   "source": [
    "Which of the following graphs reports the correct histogram by household of the total purchase of pasta made by the household over the whole period? (Sum the purchases by household and make a histogram.)\n",
    "\n",
    "Note that the color or exact representation may be different in your version."
   ]
  },
  {
   "cell_type": "code",
   "execution_count": 74,
   "metadata": {},
   "outputs": [
    {
     "data": {
      "text/plain": [
       "<matplotlib.axes._subplots.AxesSubplot at 0x1fd51eca7f0>"
      ]
     },
     "execution_count": 74,
     "metadata": {},
     "output_type": "execute_result"
    },
    {
     "data": {
      "image/png": "[encoded data removed]",
      "text/plain": [
       "<Figure size 432x288 with 1 Axes>"
      ]
     },
     "metadata": {
      "needs_background": "light"
     },
     "output_type": "display_data"
    }
   ],
   "source": [
    "sum_pasta = lambda x:np.sum(x)\n",
    "df_pasta = df.groupby(['HHID'])['PASTA'].apply(sum_pasta)\n",
    "df_pasta.describe()\n",
    "df_pasta.hist(bins=7)"
   ]
  },
  {
   "cell_type": "markdown",
   "metadata": {},
   "source": [
    "Which of the following graphs reports the correct time series of the overall total purchase of pasta? (Sum the purchases by time units and plot the quantity by time unit.)"
   ]
  },
  {
   "cell_type": "code",
   "execution_count": 108,
   "metadata": {},
   "outputs": [
    {
     "data": {
      "text/plain": [
       "<matplotlib.axes._subplots.AxesSubplot at 0x1fd5506fe48>"
      ]
     },
     "execution_count": 108,
     "metadata": {},
     "output_type": "execute_result"
    },
    {
     "data": {
      "image/png": "[encoded data removed]",
      "text/plain": [
       "<Figure size 432x288 with 1 Axes>"
      ]
     },
     "metadata": {
      "needs_background": "light"
     },
     "output_type": "display_data"
    }
   ],
   "source": [
    "df_pasta_by_time = df.groupby(['TIME']).apply(np.sum)\n",
    "df_pasta = df_pasta_by_time['PASTA'].reset_index()\n",
    "df_pasta.plot.scatter(x='TIME',\n",
    "                      y='PASTA',\n",
    "                      c='DarkBlue')"
   ]
  },
  {
   "cell_type": "code",
   "execution_count": null,
   "metadata": {},
   "outputs": [],
   "source": []
  }
 ],
 "metadata": {
  "kernelspec": {
   "display_name": "Python 3",
   "language": "python",
   "name": "python3"
  },
  "language_info": {
   "codemirror_mode": {
    "name": "ipython",
    "version": 3
   },
   "file_extension": ".py",
   "mimetype": "text/x-python",
   "name": "python",
   "nbconvert_exporter": "python",
   "pygments_lexer": "ipython3",
   "version": "3.7.1"
  }
 },
 "nbformat": 4,
 "nbformat_minor": 2
}
